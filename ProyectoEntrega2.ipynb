{
 "cells": [
  {
   "cell_type": "code",
   "execution_count": null,
   "id": "bc8563d1-d88f-4ec3-973b-929e8d37fed5",
   "metadata": {},
   "outputs": [],
   "source": [
    "# Importar librerias\n",
    "import seaborn as sns\n",
    "import matplotlib.pyplot as plt"
   ]
  },
  {
   "cell_type": "code",
   "execution_count": null,
   "id": "5e125a15-24d7-4646-bdfd-68ba656f1573",
   "metadata": {},
   "outputs": [],
   "source": [
    "import pandas as pd\n",
    "\n",
    "# Leer el archivo CSV\n",
    "df = pd.read_csv('/content/Steam_2024_bestRevenue_1500.csv')\n",
    "\n",
    "# Mostrar las primeras filas del DataFrame\n",
    "df.head()"
   ]
  },
  {
   "cell_type": "code",
   "execution_count": null,
   "id": "d19b01ce-026c-4af1-82ce-8fc4073a6813",
   "metadata": {},
   "outputs": [],
   "source": [
    "# Ver el número de observaciones (filas) y columnas\n",
    "df.shape"
   ]
  },
  {
   "cell_type": "code",
   "execution_count": null,
   "id": "264c0170-844e-4799-9f92-5e0ed274f347",
   "metadata": {},
   "outputs": [],
   "source": [
    "# Obtener estadísticas descriptivas para las columnas numéricas\n",
    "df.describe()"
   ]
  },
  {
   "cell_type": "code",
   "execution_count": null,
   "id": "4c4f82db-2d7d-4acb-b567-80c7b85e3213",
   "metadata": {},
   "outputs": [],
   "source": [
    "# Ver los tipos de datos de cada columna\n",
    "df.info()"
   ]
  },
  {
   "cell_type": "code",
   "execution_count": null,
   "id": "a98e7cd5-c85c-47a2-8da1-e729bca1e0f7",
   "metadata": {},
   "outputs": [],
   "source": [
    "# Contar los valores únicos en columnas categóricas\n",
    "df['publisherClass'].value_counts()\n",
    "df['publishers'].value_counts()"
   ]
  },
  {
   "cell_type": "code",
   "execution_count": null,
   "id": "e77ee98c-dcb5-4fb3-97c0-6cff2f95f3f8",
   "metadata": {},
   "outputs": [],
   "source": [
    "# Seleccionar solo las columnas numéricas\n",
    "numerical_df = df.select_dtypes(include=['float64', 'int64'])\n",
    "\n",
    "# Calcular la matriz de correlación\n",
    "correlation_matrix = numerical_df.corr()\n",
    "\n",
    "# Mostrar la matriz de correlación\n",
    "correlation_matrix"
   ]
  },
  {
   "cell_type": "code",
   "execution_count": null,
   "id": "b603a765-e773-4aae-8420-f9fb39ed7a36",
   "metadata": {},
   "outputs": [],
   "source": [
    "# Mostrar la matriz de correlación\n",
    "print(correlation_matrix)"
   ]
  },
  {
   "cell_type": "code",
   "execution_count": null,
   "id": "2af06cbd-8009-4b6a-8803-6aba0017c674",
   "metadata": {},
   "outputs": [],
   "source": [
    "# Crear un heatmap de la matriz de correlación\n",
    "plt.figure(figsize=(10,8))\n",
    "sns.heatmap(correlation_matrix, annot=True, cmap='coolwarm', linewidths=0.5)\n",
    "plt.title('Heatmap de la Matriz de Correlación')\n",
    "plt.show()"
   ]
  }
 ],
 "metadata": {
  "kernelspec": {
   "display_name": "Python 3 (ipykernel)",
   "language": "python",
   "name": "python3"
  },
  "language_info": {
   "codemirror_mode": {
    "name": "ipython",
    "version": 3
   },
   "file_extension": ".py",
   "mimetype": "text/x-python",
   "name": "python",
   "nbconvert_exporter": "python",
   "pygments_lexer": "ipython3",
   "version": "3.13.0"
  }
 },
 "nbformat": 4,
 "nbformat_minor": 5
}
